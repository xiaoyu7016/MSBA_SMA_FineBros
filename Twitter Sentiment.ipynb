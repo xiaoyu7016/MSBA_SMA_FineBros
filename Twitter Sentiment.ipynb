{
 "cells": [
  {
   "cell_type": "code",
   "execution_count": 141,
   "metadata": {
    "collapsed": false
   },
   "outputs": [],
   "source": [
    "import pandas as pd\n",
    "import textblob\n",
    "from textblob import TextBlob\n",
    "import warnings\n",
    "warnings.filterwarnings('ignore')\n",
    "from nltk.tokenize import RegexpTokenizer\n",
    "from nltk.corpus import stopwords\n",
    "import nltk.data\n",
    "import numpy as np\n",
    "from pandas import Series, DataFrame\n",
    "import fnmatch\n",
    "%matplotlib inline"
   ]
  },
  {
   "cell_type": "code",
   "execution_count": 35,
   "metadata": {
    "collapsed": false
   },
   "outputs": [],
   "source": [
    "feb1 = pd.read_csv(\"0201.csv\",encoding = 'utf-8')\n",
    "feb2 = pd.read_csv(\"0202.csv\",encoding = 'utf-8')\n",
    "feb3 = pd.read_csv(\"0203.csv\",encoding = 'utf-8')\n",
    "feb4 = pd.read_csv(\"0204.csv\",encoding = 'utf-8')\n",
    "feb5 = pd.read_csv(\"0205.csv\",encoding = 'utf-8')"
   ]
  },
  {
   "cell_type": "code",
   "execution_count": 181,
   "metadata": {
    "collapsed": false
   },
   "outputs": [],
   "source": [
    "stop = stopwords.words('english')\n",
    "def WordProcess(series):\n",
    "    \"\"\"This function will remove stopwords  in each row in a given series and return a list\"\"\"\n",
    "    tokenized = []\n",
    "    tokenizer = RegexpTokenizer(r'\\w+')\n",
    "    for i in range(len(series)):\n",
    "        tokenized.append(tokenizer.tokenize(series[i]))\n",
    "    tokenized_rmstop = []\n",
    "    for i in range(len(tokenized)):\n",
    "        lists = []\n",
    "        for j in range(len(tokenized[i])):\n",
    "            if tokenized[i][j] not in stop:\n",
    "                lists.append(tokenized[i][j])\n",
    "        tokenized_rmstop.append(lists)\n",
    "    non_tokenized = []\n",
    "    for i in range(len(tokenized_rmstop)):\n",
    "        string = ' '.join(tokenized_rmstop[i])\n",
    "        non_tokenized.append(string)\n",
    "   \n",
    "    for i in range(len(non_tokenized)):\n",
    "        non_tokenized[i] = non_tokenized[i].lower()\n",
    "    return non_tokenized"
   ]
  },
  {
   "cell_type": "code",
   "execution_count": 182,
   "metadata": {
    "collapsed": true
   },
   "outputs": [],
   "source": [
    "feb1comments = WordProcess(feb1['text'])\n",
    "feb2comments = WordProcess(feb2['text'])\n",
    "feb3comments = WordProcess(feb3['text'])\n",
    "feb4comments = WordProcess(feb4['text'])\n",
    "feb5comments = WordProcess(feb5['text'])"
   ]
  },
  {
   "cell_type": "code",
   "execution_count": 184,
   "metadata": {
    "collapsed": false
   },
   "outputs": [],
   "source": [
    "comments = [feb1comments, feb2comments, feb3comments, feb4comments, feb5comments]\n",
    "sentiment_scores = []\n",
    "subjectivity_scores = []\n",
    "for i in range(len(comments)):\n",
    "    day_score_sent = []\n",
    "    day_score_sub = []\n",
    "    for j in range(len(comments[i])):\n",
    "        comment_text = TextBlob(comments[i][j])\n",
    "        comment_score = comment_text.sentiment.polarity\n",
    "        comment_sub = comment_text.sentiment.subjectivity\n",
    "        day_score_sent.append(comment_score)\n",
    "        day_score_sub.append(comment_sub)\n",
    "    sum_day_scores = sum(day_score_sent)\n",
    "    sum_day_sub = sum(day_score_sub)\n",
    "    sentiment_scores.append(sum_day_scores)\n",
    "    subjectivity_scores.append(sum_day_sub)"
   ]
  },
  {
   "cell_type": "markdown",
   "metadata": {},
   "source": [
    "Sentiment polarity scores and subjectivity scores over the last five days, sentiment scores are from -0.1 to 0.1, so for 10,000 comments, most positive sentiment would be 10000 and most negative will be -10000. Subjectivity scores are from 0 to 1, with 0 being most objective and 1 being most subjective. We would expect a subjective day to have scores more than 5000."
   ]
  },
  {
   "cell_type": "code",
   "execution_count": 185,
   "metadata": {
    "collapsed": false
   },
   "outputs": [],
   "source": [
    "#let's exclude neutral and only keep comments with polarity > 0.3 or < -0.3\n",
    "sent = []\n",
    "for i in range(len(comments)):\n",
    "    day_score_sent = []\n",
    "    day_score_sub = []\n",
    "    for j in range(len(comments[i])):\n",
    "        comment_text = TextBlob(comments[i][j])\n",
    "        comment_score = comment_text.sentiment.polarity\n",
    "        if comment_score > 0.3 or comment_score < -0.3:\n",
    "            day_score_sent.append(comment_score)\n",
    "    sum_day_scores = sum(day_score_sent)\n",
    "    sent.append(sum_day_scores)\n",
    "#now let's only keep extreme comments\n",
    "sent_extreme = []\n",
    "for i in range(len(comments)):\n",
    "    day_score_sent = []\n",
    "    day_score_sub = []\n",
    "    for j in range(len(comments[i])):\n",
    "        comment_text = TextBlob(comments[i][j])\n",
    "        comment_score = comment_text.sentiment.polarity\n",
    "        if comment_score > 0.5 or comment_score < -0.5:\n",
    "            day_score_sent.append(comment_score)\n",
    "    sum_day_scores = sum(day_score_sent)\n",
    "    sent_extreme.append(sum_day_scores)"
   ]
  },
  {
   "cell_type": "code",
   "execution_count": 186,
   "metadata": {
    "collapsed": false
   },
   "outputs": [
    {
     "data": {
      "text/html": [
       "<div>\n",
       "<table border=\"1\" class=\"dataframe\">\n",
       "  <thead>\n",
       "    <tr style=\"text-align: right;\">\n",
       "      <th></th>\n",
       "      <th>Sentiment</th>\n",
       "      <th>Non-Neutral Comments</th>\n",
       "      <th>Extreme Comments</th>\n",
       "      <th>Subjectivity</th>\n",
       "    </tr>\n",
       "  </thead>\n",
       "  <tbody>\n",
       "    <tr>\n",
       "      <th>Feb 1</th>\n",
       "      <td>3688.055375</td>\n",
       "      <td>3520.836941</td>\n",
       "      <td>1388.611111</td>\n",
       "      <td>5445.987193</td>\n",
       "    </tr>\n",
       "    <tr>\n",
       "      <th>Feb 2</th>\n",
       "      <td>2805.438312</td>\n",
       "      <td>2583.809524</td>\n",
       "      <td>473.888889</td>\n",
       "      <td>4727.976190</td>\n",
       "    </tr>\n",
       "    <tr>\n",
       "      <th>Feb 3</th>\n",
       "      <td>3101.304563</td>\n",
       "      <td>2614.047619</td>\n",
       "      <td>767.500000</td>\n",
       "      <td>4721.531836</td>\n",
       "    </tr>\n",
       "    <tr>\n",
       "      <th>Feb 4</th>\n",
       "      <td>2943.155664</td>\n",
       "      <td>2591.212121</td>\n",
       "      <td>560.000000</td>\n",
       "      <td>4568.584957</td>\n",
       "    </tr>\n",
       "    <tr>\n",
       "      <th>Feb 5</th>\n",
       "      <td>2398.888889</td>\n",
       "      <td>2290.000000</td>\n",
       "      <td>1290.833333</td>\n",
       "      <td>5495.833333</td>\n",
       "    </tr>\n",
       "  </tbody>\n",
       "</table>\n",
       "</div>"
      ],
      "text/plain": [
       "         Sentiment  Non-Neutral Comments  Extreme Comments  Subjectivity\n",
       "Feb 1  3688.055375           3520.836941       1388.611111   5445.987193\n",
       "Feb 2  2805.438312           2583.809524        473.888889   4727.976190\n",
       "Feb 3  3101.304563           2614.047619        767.500000   4721.531836\n",
       "Feb 4  2943.155664           2591.212121        560.000000   4568.584957\n",
       "Feb 5  2398.888889           2290.000000       1290.833333   5495.833333"
      ]
     },
     "execution_count": 186,
     "metadata": {},
     "output_type": "execute_result"
    }
   ],
   "source": [
    "col = ['Sentiment','Non-Neutral Comments','Extreme Comments', 'Subjectivity']\n",
    "col_lists = [sentiment_scores,sent,sent_extreme,subjectivity_scores]\n",
    "ind = ['Feb 1', 'Feb 2', 'Feb 3','Feb 4','Feb 5']\n",
    "df_sent = pd.DataFrame(index=ind, columns=col)\n",
    "for i in range(len(col)):\n",
    "    df_sent[col[i]] = col_lists[i]\n",
    "df_sent"
   ]
  },
  {
   "cell_type": "code",
   "execution_count": 187,
   "metadata": {
    "collapsed": false
   },
   "outputs": [
    {
     "data": {
      "text/plain": [
       "<matplotlib.axes._subplots.AxesSubplot at 0x10dcf2710>"
      ]
     },
     "execution_count": 187,
     "metadata": {},
     "output_type": "execute_result"
    },
    {
     "data": {
      "image/png": "[encoded data removed]",
      "text/plain": [
       "<matplotlib.figure.Figure at 0x1128fc190>"
      ]
     },
     "metadata": {},
     "output_type": "display_data"
    }
   ],
   "source": [
    "df_sent.plot(x=df_sent.index, y = df_sent.columns[:-1], kind='line')"
   ]
  },
  {
   "cell_type": "markdown",
   "metadata": {},
   "source": [
    "I'm going to try tokenizing and see if it helps with sentiment"
   ]
  },
  {
   "cell_type": "code",
   "execution_count": 189,
   "metadata": {
    "collapsed": false
   },
   "outputs": [],
   "source": [
    "def WordProcess_tok(series):\n",
    "    \"\"\"This function will remove stopwords  in each row in a given series and return a list\"\"\"\n",
    "    tokenized = []\n",
    "    tokenizer = RegexpTokenizer(r'\\w+')\n",
    "    for i in range(len(series)):\n",
    "        tokenized.append(tokenizer.tokenize(series[i]))\n",
    "    tokenized_rmstop = []\n",
    "    for i in range(len(tokenized)):\n",
    "        lists = []\n",
    "        for j in range(len(tokenized[i])):\n",
    "            if tokenized[i][j] not in stop:\n",
    "                lists.append(tokenized[i][j])\n",
    "        tokenized_rmstop.append(lists)\n",
    "    for i in range(len(tokenized_rmstop)):\n",
    "        tokenized_rmstop[i] = [word.lower() for word in tokenized_rmstop[i]]\n",
    "    return tokenized_rmstop"
   ]
  },
  {
   "cell_type": "code",
   "execution_count": 190,
   "metadata": {
    "collapsed": false
   },
   "outputs": [],
   "source": [
    "feb1comm = WordProcess_tok(feb1['text'])\n",
    "feb2comm = WordProcess_tok(feb2['text'])\n",
    "feb3comm = WordProcess_tok(feb3['text'])\n",
    "feb4comm = WordProcess_tok(feb4['text'])\n",
    "feb5comm = WordProcess_tok(feb5['text'])"
   ]
  },
  {
   "cell_type": "code",
   "execution_count": 191,
   "metadata": {
    "collapsed": true
   },
   "outputs": [],
   "source": [
    "tokcom = [feb1comm,feb2comm,feb3comm,feb4comm,feb5comm]\n",
    "sent_score = []\n",
    "for i in range(len(tokcom)):\n",
    "    each_word = []\n",
    "    for j in range(len(tokcom[i])):\n",
    "            for k in range(len(tokcom[i][j])):\n",
    "                word_text = TextBlob(tokcom[i][j][k])\n",
    "                word_score = word_text.sentiment.polarity\n",
    "                each_word.append(word_score)\n",
    "    sum_day_score = sum(each_word)\n",
    "    sent_score.append(sum_day_score)"
   ]
  },
  {
   "cell_type": "code",
   "execution_count": 192,
   "metadata": {
    "collapsed": false
   },
   "outputs": [
    {
     "data": {
      "text/plain": [
       "[6447.586580087599,\n",
       " 4725.362554112368,\n",
       " 4972.191558441603,\n",
       " 4680.313852813671,\n",
       " 4266.666666666127]"
      ]
     },
     "execution_count": 192,
     "metadata": {},
     "output_type": "execute_result"
    }
   ],
   "source": [
    "sent_score"
   ]
  },
  {
   "cell_type": "markdown",
   "metadata": {},
   "source": [
    "How many tokens are in each day?"
   ]
  },
  {
   "cell_type": "code",
   "execution_count": 193,
   "metadata": {
    "collapsed": false
   },
   "outputs": [
    {
     "data": {
      "text/plain": [
       "[130700, 118600, 127200, 123000, 131300]"
      ]
     },
     "execution_count": 193,
     "metadata": {},
     "output_type": "execute_result"
    }
   ],
   "source": [
    "count_token = []\n",
    "for i in range(len(tokcom)):\n",
    "    count = 0\n",
    "    for j in range(len(tokcom[i])):\n",
    "        count += len(tokcom[i][j])\n",
    "    count_token.append(count)\n",
    "count_token"
   ]
  },
  {
   "cell_type": "markdown",
   "metadata": {},
   "source": [
    "Scaling sentiment to 0 to 1, with 0 being lowest and 1 being highest."
   ]
  },
  {
   "cell_type": "code",
   "execution_count": 194,
   "metadata": {
    "collapsed": false
   },
   "outputs": [
    {
     "data": {
      "text/plain": [
       "[0.5246655951801362,\n",
       " 0.519921427293897,\n",
       " 0.5195447781385284,\n",
       " 0.5190256660683483,\n",
       " 0.5162477786240142]"
      ]
     },
     "execution_count": 194,
     "metadata": {},
     "output_type": "execute_result"
    }
   ],
   "source": [
    "avg_sent = []\n",
    "for i in range(len(count_token)):\n",
    "    avg = (sent_score[i]+count_token[i])/(count_token[i]*2)\n",
    "    avg_sent.append(avg)\n",
    "avg_sent"
   ]
  },
  {
   "cell_type": "markdown",
   "metadata": {},
   "source": [
    "Sentiment is surely dropping every day. But without reference to how sentiment was before the PR scandal, and how positive tweets are in general , we don't know if the sentiments were relatively less positive than other topics. Perhaps Yuwen can grab random tweets from the web for reference."
   ]
  },
  {
   "cell_type": "code",
   "execution_count": 195,
   "metadata": {
    "collapsed": false
   },
   "outputs": [],
   "source": [
    "#let's remove the word fine from all the comments as that might be artifically driving the sentiment score up\n",
    "remove_fine = comments\n",
    "for i in range(len(remove_fine)):\n",
    "    for j in range(len(remove_fine[i])):\n",
    "        if 'fine' in remove_fine[i][j]:\n",
    "            remove_fine[i][j] = remove_fine[i][j].replace('fine', 'some')\n",
    "sent_scores_fine = []\n",
    "for i in range(len(remove_fine)):\n",
    "    day_score_sent = []\n",
    "    for j in range(len(remove_fine[i])):\n",
    "        comment_text = TextBlob(remove_fine[i][j])\n",
    "        comment_score = comment_text.sentiment.polarity\n",
    "        day_score_sent.append(comment_score)\n",
    "    sum_day_scores = sum(day_score_sent)\n",
    "    sent_scores_fine.append(sum_day_scores)           "
   ]
  },
  {
   "cell_type": "code",
   "execution_count": 197,
   "metadata": {
    "collapsed": true
   },
   "outputs": [],
   "source": [
    "#let's exclude neutral and only keep comments with polarity > 0.3 or < -0.3\n",
    "sent_fine = []\n",
    "for i in range(len(remove_fine)):\n",
    "    day_score_sent = []\n",
    "    day_score_sub = []\n",
    "    for j in range(len(remove_fine[i])):\n",
    "        comment_text = TextBlob(remove_fine[i][j])\n",
    "        comment_score = comment_text.sentiment.polarity\n",
    "        if comment_score > 0.3 or comment_score < -0.3:\n",
    "            day_score_sent.append(comment_score)\n",
    "    sum_day_scores = sum(day_score_sent)\n",
    "    sent_fine.append(sum_day_scores)\n",
    "#now let's only keep extreme comments\n",
    "sent_extreme_fine = []\n",
    "for i in range(len(remove_fine)):\n",
    "    day_score_sent = []\n",
    "    day_score_sub = []\n",
    "    for j in range(len(remove_fine[i])):\n",
    "        comment_text = TextBlob(remove_fine[i][j])\n",
    "        comment_score = comment_text.sentiment.polarity\n",
    "        if comment_score > 0.5 or comment_score < -0.5:\n",
    "            day_score_sent.append(comment_score)\n",
    "    sum_day_scores = sum(day_score_sent)\n",
    "    sent_extreme_fine.append(sum_day_scores)"
   ]
  },
  {
   "cell_type": "code",
   "execution_count": 198,
   "metadata": {
    "collapsed": false
   },
   "outputs": [
    {
     "data": {
      "text/html": [
       "<div>\n",
       "<table border=\"1\" class=\"dataframe\">\n",
       "  <thead>\n",
       "    <tr style=\"text-align: right;\">\n",
       "      <th></th>\n",
       "      <th>Sentiment</th>\n",
       "      <th>Non-Neutral Comments</th>\n",
       "      <th>Extreme Comments</th>\n",
       "    </tr>\n",
       "  </thead>\n",
       "  <tbody>\n",
       "    <tr>\n",
       "      <th>Feb 1</th>\n",
       "      <td>1816.608947</td>\n",
       "      <td>1587.922078</td>\n",
       "      <td>1520.0</td>\n",
       "    </tr>\n",
       "    <tr>\n",
       "      <th>Feb 2</th>\n",
       "      <td>675.319264</td>\n",
       "      <td>604.285714</td>\n",
       "      <td>450.0</td>\n",
       "    </tr>\n",
       "    <tr>\n",
       "      <th>Feb 3</th>\n",
       "      <td>952.754329</td>\n",
       "      <td>701.785714</td>\n",
       "      <td>747.5</td>\n",
       "    </tr>\n",
       "    <tr>\n",
       "      <th>Feb 4</th>\n",
       "      <td>749.702381</td>\n",
       "      <td>670.000000</td>\n",
       "      <td>460.0</td>\n",
       "    </tr>\n",
       "    <tr>\n",
       "      <th>Feb 5</th>\n",
       "      <td>905.972222</td>\n",
       "      <td>904.166667</td>\n",
       "      <td>737.5</td>\n",
       "    </tr>\n",
       "  </tbody>\n",
       "</table>\n",
       "</div>"
      ],
      "text/plain": [
       "         Sentiment  Non-Neutral Comments  Extreme Comments\n",
       "Feb 1  1816.608947           1587.922078            1520.0\n",
       "Feb 2   675.319264            604.285714             450.0\n",
       "Feb 3   952.754329            701.785714             747.5\n",
       "Feb 4   749.702381            670.000000             460.0\n",
       "Feb 5   905.972222            904.166667             737.5"
      ]
     },
     "execution_count": 198,
     "metadata": {},
     "output_type": "execute_result"
    }
   ],
   "source": [
    "col = ['Sentiment','Non-Neutral Comments','Extreme Comments']\n",
    "col_lists = [sent_scores_fine,sent_fine,sent_extreme_fine]\n",
    "ind = ['Feb 1', 'Feb 2', 'Feb 3','Feb 4','Feb 5']\n",
    "df_sent_fine = pd.DataFrame(index=ind, columns=col)\n",
    "for i in range(len(col)):\n",
    "    df_sent_fine[col[i]] = col_lists[i]\n",
    "df_sent_fine"
   ]
  },
  {
   "cell_type": "code",
   "execution_count": 199,
   "metadata": {
    "collapsed": false
   },
   "outputs": [
    {
     "data": {
      "text/plain": [
       "<matplotlib.axes._subplots.AxesSubplot at 0x1128fc290>"
      ]
     },
     "execution_count": 199,
     "metadata": {},
     "output_type": "execute_result"
    },
    {
     "data": {
      "image/png": "[encoded data removed]",
      "text/plain": [
       "<matplotlib.figure.Figure at 0x119e0bed0>"
      ]
     },
     "metadata": {},
     "output_type": "display_data"
    }
   ],
   "source": [
    "df_sent_fine.plot(x=df_sent_fine.index, y = df_sent_fine.columns, kind='line')"
   ]
  },
  {
   "cell_type": "markdown",
   "metadata": {},
   "source": [
    "let's try the same thing, just with tokenized comments. "
   ]
  },
  {
   "cell_type": "code",
   "execution_count": 200,
   "metadata": {
    "collapsed": true
   },
   "outputs": [],
   "source": [
    "rem_fine = tokcom\n",
    "for i in range(len(rem_fine)):\n",
    "    for j in range(len(rem_fine[i])):\n",
    "        for k in range(len(rem_fine[i][j])):\n",
    "            if 'fine' in rem_fine[i][j][k]:\n",
    "                rem_fine[i][j][k] = rem_fine[i][j][k].replace('fine', 'some')"
   ]
  },
  {
   "cell_type": "code",
   "execution_count": 201,
   "metadata": {
    "collapsed": false
   },
   "outputs": [
    {
     "data": {
      "text/plain": [
       "[2447.5865800864444,\n",
       " 1225.3625541125748,\n",
       " 1013.8582251082663,\n",
       " 846.9805194805429,\n",
       " 808.3333333333813]"
      ]
     },
     "execution_count": 201,
     "metadata": {},
     "output_type": "execute_result"
    }
   ],
   "source": [
    "sent_score_fine = []\n",
    "for i in range(len(rem_fine)):\n",
    "    each_word = []\n",
    "    for j in range(len(rem_fine[i])):\n",
    "            for k in range(len(rem_fine[i][j])):\n",
    "                word_text = TextBlob(rem_fine[i][j][k])\n",
    "                word_score = word_text.sentiment.polarity\n",
    "                each_word.append(word_score)\n",
    "    sum_day_score = sum(each_word)\n",
    "    sent_score_fine.append(sum_day_score)\n",
    "sent_score_fine"
   ]
  },
  {
   "cell_type": "code",
   "execution_count": 202,
   "metadata": {
    "collapsed": false
   },
   "outputs": [
    {
     "data": {
      "text/plain": [
       "[0.5093633763584026,\n",
       " 0.5051659466868152,\n",
       " 0.5039852917653627,\n",
       " 0.5034430102417908,\n",
       " 0.5030781924346283]"
      ]
     },
     "execution_count": 202,
     "metadata": {},
     "output_type": "execute_result"
    }
   ],
   "source": [
    "avg_sent = []\n",
    "for i in range(len(count_token)):\n",
    "    avg = (sent_score_fine[i]+count_token[i])/(count_token[i]*2)\n",
    "    avg_sent.append(avg)\n",
    "avg_sent"
   ]
  },
  {
   "cell_type": "markdown",
   "metadata": {},
   "source": [
    "Out of 10k comments per day, how many times did the word \"unsub\" (or unsubscribe) appear in there?"
   ]
  },
  {
   "cell_type": "code",
   "execution_count": 203,
   "metadata": {
    "collapsed": false
   },
   "outputs": [],
   "source": [
    "unsub_amount = []\n",
    "for i in range(len(tokcom)):\n",
    "    each_day_unsub = []\n",
    "    for j in range(len(tokcom[i])):\n",
    "        filtered = fnmatch.filter(tokcom[i][j], 'unsub*')\n",
    "        num = len(filtered)\n",
    "        each_day_unsub.append(num)\n",
    "    unsub_amount.append(sum(each_day_unsub))    "
   ]
  },
  {
   "cell_type": "code",
   "execution_count": 204,
   "metadata": {
    "collapsed": false
   },
   "outputs": [
    {
     "data": {
      "text/plain": [
       "[300, 0, 800, 200, 400]"
      ]
     },
     "execution_count": 204,
     "metadata": {},
     "output_type": "execute_result"
    }
   ],
   "source": [
    "unsub_amount"
   ]
  },
  {
   "cell_type": "markdown",
   "metadata": {},
   "source": [
    "add in other terms, we can safely assume that if people are talking about the word \"subscribe\", they must be saying stuff like 'losing subscribers' or 'subscribers fading away' (these are examples from some of the tweets I read)"
   ]
  },
  {
   "cell_type": "code",
   "execution_count": 205,
   "metadata": {
    "collapsed": false
   },
   "outputs": [
    {
     "data": {
      "text/plain": [
       "[800, 100, 1200, 200, 400]"
      ]
     },
     "execution_count": 205,
     "metadata": {},
     "output_type": "execute_result"
    }
   ],
   "source": [
    "about_sub = []\n",
    "for i in range(len(tokcom)):\n",
    "    each_day_unsub = []\n",
    "    for j in range(len(tokcom[i])):\n",
    "        filtered = fnmatch.filter(tokcom[i][j], 'subscrib*')\n",
    "        num = len(filtered)\n",
    "        each_day_unsub.append(num)\n",
    "    about_sub.append(sum(each_day_unsub)) \n",
    "about_sub"
   ]
  },
  {
   "cell_type": "code",
   "execution_count": 206,
   "metadata": {
    "collapsed": false
   },
   "outputs": [
    {
     "data": {
      "text/plain": [
       "[1100, 100, 2000, 400, 800]"
      ]
     },
     "execution_count": 206,
     "metadata": {},
     "output_type": "execute_result"
    }
   ],
   "source": [
    "# add unsub with sub topics\n",
    "for i in range(len(unsub_amount)):\n",
    "    unsub_amount[i] = unsub_amount[i]+about_sub[i]\n",
    "unsub_amount"
   ]
  },
  {
   "cell_type": "markdown",
   "metadata": {},
   "source": [
    "let's see how many times do words like 'upset', 'mad', and 'angry' appear"
   ]
  },
  {
   "cell_type": "code",
   "execution_count": 209,
   "metadata": {
    "collapsed": false
   },
   "outputs": [
    {
     "data": {
      "text/plain": [
       "[500, 100, 200, 100, 200]"
      ]
     },
     "execution_count": 209,
     "metadata": {},
     "output_type": "execute_result"
    }
   ],
   "source": [
    "emotion =['upset*', 'mad*', 'angry*', 'furious*', 'anger*', 'fury*']\n",
    "mad_tweets = []\n",
    "for i in range(len(tokcom)):\n",
    "    each_day_mad = []\n",
    "    for j in range(len(tokcom[i])):\n",
    "        for emo in emotion:\n",
    "            filtered = fnmatch.filter(tokcom[i][j], emo)\n",
    "            num = len(filtered)\n",
    "            each_day_mad.append(num)\n",
    "    mad_tweets.append(sum(each_day_mad))\n",
    "mad_tweets                 "
   ]
  },
  {
   "cell_type": "code",
   "execution_count": 116,
   "metadata": {
    "collapsed": false
   },
   "outputs": [],
   "source": [
    "#let's do word frequency\n",
    "whole_thing = []\n",
    "for i in range(len(tokcom)):\n",
    "    thing = sum(tokcom[i],[])\n",
    "    whole_thing.append(thing)"
   ]
  },
  {
   "cell_type": "code",
   "execution_count": 159,
   "metadata": {
    "collapsed": false
   },
   "outputs": [],
   "source": [
    "entire = sum(whole_thing,[])\n",
    "words = set(entire)\n",
    "counts = [(w,entire.count(w)) for w in words]"
   ]
  },
  {
   "cell_type": "code",
   "execution_count": 168,
   "metadata": {
    "collapsed": false
   },
   "outputs": [
    {
     "data": {
      "text/html": [
       "<div>\n",
       "<table border=\"1\" class=\"dataframe\">\n",
       "  <thead>\n",
       "    <tr style=\"text-align: right;\">\n",
       "      <th></th>\n",
       "      <th>Word</th>\n",
       "      <th>Frequency</th>\n",
       "    </tr>\n",
       "  </thead>\n",
       "  <tbody>\n",
       "    <tr>\n",
       "      <th>71</th>\n",
       "      <td>want</td>\n",
       "      <td>2400</td>\n",
       "    </tr>\n",
       "    <tr>\n",
       "      <th>448</th>\n",
       "      <td>Why</td>\n",
       "      <td>2400</td>\n",
       "    </tr>\n",
       "    <tr>\n",
       "      <th>437</th>\n",
       "      <td>stream</td>\n",
       "      <td>2200</td>\n",
       "    </tr>\n",
       "    <tr>\n",
       "      <th>626</th>\n",
       "      <td>Division</td>\n",
       "      <td>2200</td>\n",
       "    </tr>\n",
       "    <tr>\n",
       "      <th>770</th>\n",
       "      <td>Dansgaming</td>\n",
       "      <td>2100</td>\n",
       "    </tr>\n",
       "    <tr>\n",
       "      <th>628</th>\n",
       "      <td>pay</td>\n",
       "      <td>2100</td>\n",
       "    </tr>\n",
       "    <tr>\n",
       "      <th>841</th>\n",
       "      <td>REACTS</td>\n",
       "      <td>1700</td>\n",
       "    </tr>\n",
       "    <tr>\n",
       "      <th>281</th>\n",
       "      <td>News</td>\n",
       "      <td>1700</td>\n",
       "    </tr>\n",
       "    <tr>\n",
       "      <th>279</th>\n",
       "      <td>Reacts</td>\n",
       "      <td>1600</td>\n",
       "    </tr>\n",
       "    <tr>\n",
       "      <th>761</th>\n",
       "      <td>RAPPER</td>\n",
       "      <td>1600</td>\n",
       "    </tr>\n",
       "    <tr>\n",
       "      <th>985</th>\n",
       "      <td>Was</td>\n",
       "      <td>1600</td>\n",
       "    </tr>\n",
       "    <tr>\n",
       "      <th>365</th>\n",
       "      <td>Dan</td>\n",
       "      <td>1600</td>\n",
       "    </tr>\n",
       "    <tr>\n",
       "      <th>887</th>\n",
       "      <td>Bros</td>\n",
       "      <td>1600</td>\n",
       "    </tr>\n",
       "    <tr>\n",
       "      <th>1253</th>\n",
       "      <td>Attempt</td>\n",
       "      <td>1600</td>\n",
       "    </tr>\n",
       "    <tr>\n",
       "      <th>1148</th>\n",
       "      <td>Bull</td>\n",
       "      <td>1600</td>\n",
       "    </tr>\n",
       "    <tr>\n",
       "      <th>1086</th>\n",
       "      <td>Entertainment</td>\n",
       "      <td>1600</td>\n",
       "    </tr>\n",
       "    <tr>\n",
       "      <th>566</th>\n",
       "      <td>get</td>\n",
       "      <td>1500</td>\n",
       "    </tr>\n",
       "    <tr>\n",
       "      <th>57</th>\n",
       "      <td>Recent</td>\n",
       "      <td>1500</td>\n",
       "    </tr>\n",
       "    <tr>\n",
       "      <th>854</th>\n",
       "      <td>Bad</td>\n",
       "      <td>1500</td>\n",
       "    </tr>\n",
       "    <tr>\n",
       "      <th>784</th>\n",
       "      <td>Word</td>\n",
       "      <td>1500</td>\n",
       "    </tr>\n",
       "    <tr>\n",
       "      <th>1367</th>\n",
       "      <td>Lawyer</td>\n",
       "      <td>1500</td>\n",
       "    </tr>\n",
       "    <tr>\n",
       "      <th>1183</th>\n",
       "      <td>Explains</td>\n",
       "      <td>1500</td>\n",
       "    </tr>\n",
       "    <tr>\n",
       "      <th>469</th>\n",
       "      <td>World</td>\n",
       "      <td>1500</td>\n",
       "    </tr>\n",
       "    <tr>\n",
       "      <th>1438</th>\n",
       "      <td>scared</td>\n",
       "      <td>1400</td>\n",
       "    </tr>\n",
       "    <tr>\n",
       "      <th>472</th>\n",
       "      <td>subscribers</td>\n",
       "      <td>1400</td>\n",
       "    </tr>\n",
       "    <tr>\n",
       "      <th>127</th>\n",
       "      <td>re</td>\n",
       "      <td>1300</td>\n",
       "    </tr>\n",
       "    <tr>\n",
       "      <th>493</th>\n",
       "      <td>couldn</td>\n",
       "      <td>1300</td>\n",
       "    </tr>\n",
       "    <tr>\n",
       "      <th>461</th>\n",
       "      <td>still</td>\n",
       "      <td>1300</td>\n",
       "    </tr>\n",
       "    <tr>\n",
       "      <th>1115</th>\n",
       "      <td>To</td>\n",
       "      <td>1300</td>\n",
       "    </tr>\n",
       "    <tr>\n",
       "      <th>891</th>\n",
       "      <td>Copyright</td>\n",
       "      <td>1300</td>\n",
       "    </tr>\n",
       "    <tr>\n",
       "      <th>1055</th>\n",
       "      <td>back</td>\n",
       "      <td>1300</td>\n",
       "    </tr>\n",
       "    <tr>\n",
       "      <th>542</th>\n",
       "      <td>channel</td>\n",
       "      <td>1200</td>\n",
       "    </tr>\n",
       "    <tr>\n",
       "      <th>492</th>\n",
       "      <td>trademarks</td>\n",
       "      <td>1200</td>\n",
       "    </tr>\n",
       "    <tr>\n",
       "      <th>809</th>\n",
       "      <td>So</td>\n",
       "      <td>1200</td>\n",
       "    </tr>\n",
       "    <tr>\n",
       "      <th>258</th>\n",
       "      <td>im</td>\n",
       "      <td>1200</td>\n",
       "    </tr>\n",
       "    <tr>\n",
       "      <th>650</th>\n",
       "      <td>If</td>\n",
       "      <td>1200</td>\n",
       "    </tr>\n",
       "    <tr>\n",
       "      <th>731</th>\n",
       "      <td>videos</td>\n",
       "      <td>1100</td>\n",
       "    </tr>\n",
       "    <tr>\n",
       "      <th>1080</th>\n",
       "      <td>Their</td>\n",
       "      <td>1100</td>\n",
       "    </tr>\n",
       "  </tbody>\n",
       "</table>\n",
       "</div>"
      ],
      "text/plain": [
       "               Word  Frequency\n",
       "71             want       2400\n",
       "448             Why       2400\n",
       "437          stream       2200\n",
       "626        Division       2200\n",
       "770      Dansgaming       2100\n",
       "628             pay       2100\n",
       "841          REACTS       1700\n",
       "281            News       1700\n",
       "279          Reacts       1600\n",
       "761          RAPPER       1600\n",
       "985             Was       1600\n",
       "365             Dan       1600\n",
       "887            Bros       1600\n",
       "1253        Attempt       1600\n",
       "1148           Bull       1600\n",
       "1086  Entertainment       1600\n",
       "566             get       1500\n",
       "57           Recent       1500\n",
       "854             Bad       1500\n",
       "784            Word       1500\n",
       "1367         Lawyer       1500\n",
       "1183       Explains       1500\n",
       "469           World       1500\n",
       "1438         scared       1400\n",
       "472     subscribers       1400\n",
       "127              re       1300\n",
       "493          couldn       1300\n",
       "461           still       1300\n",
       "1115             To       1300\n",
       "891       Copyright       1300\n",
       "1055           back       1300\n",
       "542         channel       1200\n",
       "492      trademarks       1200\n",
       "809              So       1200\n",
       "258              im       1200\n",
       "650              If       1200\n",
       "731          videos       1100\n",
       "1080          Their       1100"
      ]
     },
     "execution_count": 168,
     "metadata": {},
     "output_type": "execute_result"
    }
   ],
   "source": [
    "df_count = pd.DataFrame(counts)\n",
    "df_count = df_count.rename(columns={0: 'Word', 1: 'Frequency'}) \n",
    "df_count = df_count.sort_index(by='Frequency', ascending=False)\n",
    "mask = df_count['Frequency'] > 1000 \n",
    "mask2 = df_count['Frequency'] < 2500\n",
    "df_count[mask][mask2]"
   ]
  },
  {
   "cell_type": "markdown",
   "metadata": {},
   "source": [
    "no conclusion from word frequency"
   ]
  },
  {
   "cell_type": "code",
   "execution_count": 122,
   "metadata": {
    "collapsed": false
   },
   "outputs": [
    {
     "data": {
      "text/plain": [
       "0.0"
      ]
     },
     "execution_count": 122,
     "metadata": {},
     "output_type": "execute_result"
    }
   ],
   "source": [
    "fine ='some'\n",
    "fin = TextBlob(fine)\n",
    "fin.sentiment.polarity"
   ]
  },
  {
   "cell_type": "code",
   "execution_count": 172,
   "metadata": {
    "collapsed": false
   },
   "outputs": [
    {
     "data": {
      "text/plain": [
       "['the']"
      ]
     },
     "execution_count": 172,
     "metadata": {},
     "output_type": "execute_result"
    }
   ],
   "source": []
  },
  {
   "cell_type": "code",
   "execution_count": null,
   "metadata": {
    "collapsed": true
   },
   "outputs": [],
   "source": []
  }
 ],
 "metadata": {
  "kernelspec": {
   "display_name": "Python 2",
   "language": "python",
   "name": "python2"
  },
  "language_info": {
   "codemirror_mode": {
    "name": "ipython",
    "version": 2
   },
   "file_extension": ".py",
   "mimetype": "text/x-python",
   "name": "python",
   "nbconvert_exporter": "python",
   "pygments_lexer": "ipython2",
   "version": "2.7.10"
  }
 },
 "nbformat": 4,
 "nbformat_minor": 0
}
